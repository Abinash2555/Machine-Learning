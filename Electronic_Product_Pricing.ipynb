{
  "nbformat": 4,
  "nbformat_minor": 0,
  "metadata": {
    "colab": {
      "name": "Electronic Product Pricing.ipynb",
      "provenance": [],
      "authorship_tag": "ABX9TyPYQEs/KsJbPq2tmnRhZw7U",
      "include_colab_link": true
    },
    "kernelspec": {
      "name": "python3",
      "display_name": "Python 3"
    },
    "language_info": {
      "name": "python"
    }
  },
  "cells": [
    {
      "cell_type": "markdown",
      "metadata": {
        "id": "view-in-github",
        "colab_type": "text"
      },
      "source": [
        "<a href=\"https://colab.research.google.com/github/Abinash2555/Machine-Learning/blob/main/Electronic_Product_Pricing.ipynb\" target=\"_parent\"><img src=\"https://colab.research.google.com/assets/colab-badge.svg\" alt=\"Open In Colab\"/></a>"
      ]
    },
    {
      "cell_type": "code",
      "metadata": {
        "id": "mWQwr4h9yXUB"
      },
      "source": [
        "##Loading Libraries\n",
        "import numpy as np # Fundamental package for linear algebra and multidimensional arrays\n",
        "import pandas as pd # Data analysis and manipultion tool"
      ],
      "execution_count": null,
      "outputs": []
    },
    {
      "cell_type": "code",
      "metadata": {
        "id": "zONXJKfrylLZ"
      },
      "source": [
        "##Loading Dataset\n",
        "# In read_csv() function, we have passed the location to where the files are located in the dphi official github page.\n",
        "ep_data = pd.read_csv(\"https://raw.githubusercontent.com/dphi-official/Datasets/master/electronic_product/electronic_product/Training_set_label.csv\" )"
      ],
      "execution_count": null,
      "outputs": []
    },
    {
      "cell_type": "code",
      "metadata": {
        "colab": {
          "base_uri": "https://localhost:8080/",
          "height": 585
        },
        "id": "XqJhmu5uyo8D",
        "outputId": "39b677e4-e3fe-4598-d5a6-3914f564fb2f"
      },
      "source": [
        "## EDA\n",
        "ep_data.head()"
      ],
      "execution_count": null,
      "outputs": [
        {
          "output_type": "execute_result",
          "data": {
            "text/html": [
              "<div>\n",
              "<style scoped>\n",
              "    .dataframe tbody tr th:only-of-type {\n",
              "        vertical-align: middle;\n",
              "    }\n",
              "\n",
              "    .dataframe tbody tr th {\n",
              "        vertical-align: top;\n",
              "    }\n",
              "\n",
              "    .dataframe thead th {\n",
              "        text-align: right;\n",
              "    }\n",
              "</style>\n",
              "<table border=\"1\" class=\"dataframe\">\n",
              "  <thead>\n",
              "    <tr style=\"text-align: right;\">\n",
              "      <th></th>\n",
              "      <th>id</th>\n",
              "      <th>prices.availability</th>\n",
              "      <th>prices.condition</th>\n",
              "      <th>prices.currency</th>\n",
              "      <th>prices.dateSeen</th>\n",
              "      <th>prices.isSale</th>\n",
              "      <th>prices.merchant</th>\n",
              "      <th>prices.shipping</th>\n",
              "      <th>prices.sourceURLs</th>\n",
              "      <th>asins</th>\n",
              "      <th>brand</th>\n",
              "      <th>categories</th>\n",
              "      <th>dateAdded</th>\n",
              "      <th>dateUpdated</th>\n",
              "      <th>ean</th>\n",
              "      <th>imageURLs</th>\n",
              "      <th>keys</th>\n",
              "      <th>manufacturer</th>\n",
              "      <th>manufacturerNumber</th>\n",
              "      <th>name</th>\n",
              "      <th>primaryCategories</th>\n",
              "      <th>sourceURLs</th>\n",
              "      <th>upc</th>\n",
              "      <th>weight</th>\n",
              "      <th>price</th>\n",
              "    </tr>\n",
              "  </thead>\n",
              "  <tbody>\n",
              "    <tr>\n",
              "      <th>0</th>\n",
              "      <td>AVphrugr1cnluZ0-FOeH</td>\n",
              "      <td>Yes</td>\n",
              "      <td>New</td>\n",
              "      <td>USD</td>\n",
              "      <td>2017-05-10T20:00:00Z,2017-05-09T15:00:00Z</td>\n",
              "      <td>False</td>\n",
              "      <td>Bestbuy.com</td>\n",
              "      <td>NaN</td>\n",
              "      <td>http://www.bestbuy.com/site/products/7100293.p...</td>\n",
              "      <td>B00I9HD8PK</td>\n",
              "      <td>Grace Digital</td>\n",
              "      <td>Electronics,Home Audio &amp; Theater,Home Audio,Al...</td>\n",
              "      <td>2015-11-01T00:57:52Z</td>\n",
              "      <td>2018-02-13T19:46:08Z</td>\n",
              "      <td>NaN</td>\n",
              "      <td>https://i5.walmartimages.com/asr/dd5f42c4-076c...</td>\n",
              "      <td>819127010485,ecoxgearecostonebluetoothspeaker/...</td>\n",
              "      <td>Ecoxgear</td>\n",
              "      <td>GDI-EGST701</td>\n",
              "      <td>EcoXGear Ecostone Bluetooth Speaker</td>\n",
              "      <td>Electronics</td>\n",
              "      <td>http://www.walmart.com/ip/EcoXGear-Ecostone-Bl...</td>\n",
              "      <td>8.19E+11</td>\n",
              "      <td>3 pounds</td>\n",
              "      <td>92.99</td>\n",
              "    </tr>\n",
              "    <tr>\n",
              "      <th>1</th>\n",
              "      <td>AVrI6FDbv8e3D1O-lm4R</td>\n",
              "      <td>Yes</td>\n",
              "      <td>New</td>\n",
              "      <td>USD</td>\n",
              "      <td>2017-10-10T02:00:00Z,2017-08-12T03:00:00Z,2017...</td>\n",
              "      <td>False</td>\n",
              "      <td>Bestbuy.com</td>\n",
              "      <td>NaN</td>\n",
              "      <td>https://www.bestbuy.com/site/lenovo-100s-14ibr...</td>\n",
              "      <td>B06ZY63J8H</td>\n",
              "      <td>Lenovo</td>\n",
              "      <td>Electronics,Computers,Laptops,Laptops By Brand...</td>\n",
              "      <td>2017-03-13T18:22:32Z</td>\n",
              "      <td>2018-01-30T06:06:16Z</td>\n",
              "      <td>NaN</td>\n",
              "      <td>https://i5.walmartimages.com/asr/fcc50cce-a3c1...</td>\n",
              "      <td>190793918948,lenovo100s14ibr14laptopintelceler...</td>\n",
              "      <td>NaN</td>\n",
              "      <td>100s-14ibr</td>\n",
              "      <td>Lenovo - 100S-14IBR 14 Laptop - Intel Celeron ...</td>\n",
              "      <td>Electronics</td>\n",
              "      <td>https://www.walmart.com/ip/Lenovo-100S-14IBR-1...</td>\n",
              "      <td>1.91E+11</td>\n",
              "      <td>4.3 pounds</td>\n",
              "      <td>229.99</td>\n",
              "    </tr>\n",
              "    <tr>\n",
              "      <th>2</th>\n",
              "      <td>AVpiLlubilAPnD_xBoTa</td>\n",
              "      <td>Yes</td>\n",
              "      <td>New</td>\n",
              "      <td>USD</td>\n",
              "      <td>2017-10-10T19:00:00Z,2017-09-12T14:00:00Z,2017...</td>\n",
              "      <td>False</td>\n",
              "      <td>Bestbuy.com</td>\n",
              "      <td>NaN</td>\n",
              "      <td>https://www.bestbuy.com/site/house-of-marley-s...</td>\n",
              "      <td>B00G3P9UMU</td>\n",
              "      <td>House of Marley</td>\n",
              "      <td>Headphones,Consumer Electronics,Portable Audio...</td>\n",
              "      <td>2014-10-28T18:47:20Z</td>\n",
              "      <td>2018-05-16T20:23:54Z</td>\n",
              "      <td>8.47E+11</td>\n",
              "      <td>https://i5.walmartimages.com/asr/c124aa15-b9e3...</td>\n",
              "      <td>0846885007037,houseofmarleysmilejamaicainearea...</td>\n",
              "      <td>House Of Marley</td>\n",
              "      <td>EM-JE041-MI</td>\n",
              "      <td>House of Marley Smile Jamaica In-Ear Earbuds</td>\n",
              "      <td>Electronics</td>\n",
              "      <td>https://www.walmart.com/ip/House-of-Marley-Smi...</td>\n",
              "      <td>8.47E+11</td>\n",
              "      <td>0.6 ounces</td>\n",
              "      <td>16.99</td>\n",
              "    </tr>\n",
              "    <tr>\n",
              "      <th>3</th>\n",
              "      <td>AVpgQP5vLJeJML43LQbd</td>\n",
              "      <td>Yes</td>\n",
              "      <td>New</td>\n",
              "      <td>USD</td>\n",
              "      <td>2017-09-08T05:00:00Z,2017-09-18T13:00:00Z,2017...</td>\n",
              "      <td>False</td>\n",
              "      <td>Bestbuy.com</td>\n",
              "      <td>NaN</td>\n",
              "      <td>https://www.bestbuy.com/site/products/6311012....</td>\n",
              "      <td>B00TTWZFFA</td>\n",
              "      <td>Sony</td>\n",
              "      <td>Electronics,Home Audio &amp; Theater,Home Audio,Al...</td>\n",
              "      <td>2015-11-06T00:24:21Z</td>\n",
              "      <td>2018-01-30T03:06:18Z</td>\n",
              "      <td>NaN</td>\n",
              "      <td>https://i5.walmartimages.com/asr/1be435f7-5f3a...</td>\n",
              "      <td>sonyultraportablebluetoothspeaker/sosrsx11bk,s...</td>\n",
              "      <td>Sony</td>\n",
              "      <td>SRSX11/BLK</td>\n",
              "      <td>Sony Ultra-Portable Bluetooth Speaker</td>\n",
              "      <td>Electronics</td>\n",
              "      <td>https://www.walmart.com/ip/Sony-Ultra-Portable...</td>\n",
              "      <td>27242886599</td>\n",
              "      <td>1 pounds</td>\n",
              "      <td>69.99</td>\n",
              "    </tr>\n",
              "    <tr>\n",
              "      <th>4</th>\n",
              "      <td>AV1YDsmoGV-KLJ3adcbe</td>\n",
              "      <td>More on the Way</td>\n",
              "      <td>New</td>\n",
              "      <td>USD</td>\n",
              "      <td>2017-12-05T13:00:00Z</td>\n",
              "      <td>True</td>\n",
              "      <td>bhphotovideo.com</td>\n",
              "      <td>Free Expedited Shipping for most orders over $49</td>\n",
              "      <td>https://www.bhphotovideo.com/c/product/1105014...</td>\n",
              "      <td>B00MHPAF38</td>\n",
              "      <td>Sony</td>\n",
              "      <td>Digital Cameras,Cameras &amp; Photo,Used:Digital P...</td>\n",
              "      <td>2017-07-18T23:35:50Z</td>\n",
              "      <td>2018-07-26T15:58:38Z</td>\n",
              "      <td>NaN</td>\n",
              "      <td>http://i.ebayimg.com/thumbs/images/g/TBUAAOSwd...</td>\n",
              "      <td>sonyalphaa5100digitalcamerakitwith1650mmlenswh...</td>\n",
              "      <td>NaN</td>\n",
              "      <td>ILCE5100L/W</td>\n",
              "      <td>Alpha a5100 Mirrorless Digital Camera with 16-...</td>\n",
              "      <td>Electronics</td>\n",
              "      <td>https://reviews.bestbuy.com/3545/8429343/revie...</td>\n",
              "      <td>27242883246</td>\n",
              "      <td>9.98 oz 4.09 oz</td>\n",
              "      <td>846.00</td>\n",
              "    </tr>\n",
              "  </tbody>\n",
              "</table>\n",
              "</div>"
            ],
            "text/plain": [
              "                     id prices.availability  ...           weight   price\n",
              "0  AVphrugr1cnluZ0-FOeH                 Yes  ...         3 pounds   92.99\n",
              "1  AVrI6FDbv8e3D1O-lm4R                 Yes  ...       4.3 pounds  229.99\n",
              "2  AVpiLlubilAPnD_xBoTa                 Yes  ...       0.6 ounces   16.99\n",
              "3  AVpgQP5vLJeJML43LQbd                 Yes  ...         1 pounds   69.99\n",
              "4  AV1YDsmoGV-KLJ3adcbe     More on the Way  ...  9.98 oz 4.09 oz  846.00\n",
              "\n",
              "[5 rows x 25 columns]"
            ]
          },
          "metadata": {
            "tags": []
          },
          "execution_count": 39
        }
      ]
    },
    {
      "cell_type": "code",
      "metadata": {
        "colab": {
          "base_uri": "https://localhost:8080/"
        },
        "id": "bPuLiyPKC6xh",
        "outputId": "1e0a7cfc-72e8-4960-fa65-bf57f4bbd74c"
      },
      "source": [
        "ep_data['weight'].unique()"
      ],
      "execution_count": null,
      "outputs": [
        {
          "output_type": "execute_result",
          "data": {
            "text/plain": [
              "array(['3 pounds', '4.3 pounds', '0.6 ounces', '1 pounds',\n",
              "       '9.98 oz 4.09 oz', '15.6', '54.5 pounds', '18.3 pounds', '3.2 Kg',\n",
              "       '1.41 pounds', '5.4 pounds', '0.32 ounces', '2 pounds',\n",
              "       '0.16 ounces                                                                                                0.16 ounces',\n",
              "       '3.7 pounds', '0.02 ounces', '75.2 lb', '1.74 lb', '22.9 ounces',\n",
              "       '5 lbs                                                                                                5 pounds',\n",
              "       '12.35 oz', '3.5 lb', '5.9 pounds', '80 ounces', '15.6 lb',\n",
              "       '14.1 ounces', '5 pounds', '4.96 pounds', '9.1 pounds',\n",
              "       '1.6 pounds', '2.40 oz', '40.8 pounds', '8.5 pounds',\n",
              "       '0.23 pounds', '2.88 ounces', '11.35 pounds', '8.9 pounds',\n",
              "       '9.8 lb', '1.25 pounds', '46.3 pounds', '56.7 pounds',\n",
              "       '8.61 ounces', '6 pounds', '10.1 ounces', '0.22 pounds',\n",
              "       '10.55 oz', '8 pounds', '2.91 pounds', '2.8 oz', '16.48 ounces',\n",
              "       '11 pounds', '13.2 lbs', '18.7 lb', '6.5 pounds', '15.9 lb',\n",
              "       '30.9 pounds', '7.2 ounces', '5.3 ounces', '8.5 ounces',\n",
              "       '23.2 pounds', '21.6 oz', '1.6 ounces', '54.2 lb',\n",
              "       '3.09 lbs                                                                                      3.09 pounds',\n",
              "       '15.2 ounces', '26 lb', '22 pounds', '34.2 pounds', '6.3 pounds',\n",
              "       '50 pounds', '2.75 pounds', '10.2 pounds', '11.2 ounces', '5.6 oz',\n",
              "       '1.9 ounces', '26.7 lb', '0.8 ounces', '81.6 ounces', '4 lb',\n",
              "       '8.00 lb', '10.4 ounces', '2.5 Kg', '1.92 ounces', '1.1 pounds',\n",
              "       '2.1 pounds', '58.4 lb', '21.4 pounds', '3.7 oz', '7.69 pounds',\n",
              "       '3.2 ounces                                                                                      3.2 ounces',\n",
              "       '16.48 pounds', '0.445 oz', '1.2 pounds', '3.1 lb', '0.07 pounds',\n",
              "       '4.41 oz', '13.3 oz 3.2 oz', '16.5 lb', '4 ounces', '24.9 ounces',\n",
              "       '1.1 lb', '3.3 lb', '454 g', '2.1 ounces', '150 pounds',\n",
              "       '9 pounds', '2.1 oz', '0.02 pounds', '8.7 ounces', '53.1 lb',\n",
              "       '4.16 pounds', '58.2 pounds', '11.9 lb',\n",
              "       '0.5 lb                                                                                                8 ounces',\n",
              "       '1.5 pounds', '27.3 pounds', '0.3 ounces', '4.6 pounds',\n",
              "       '6.4 ounces', '17.9 lb',\n",
              "       '5 lbs                                                                                      5 pounds',\n",
              "       '4.2 lb', '2.5 pounds', '18.7 pounds', '14.3 lb', '4.9 pounds',\n",
              "       '1.8 lbs                                                                                      1.8 pounds',\n",
              "       '11.2 pounds', '7.1 pounds', '2.4 ounces', '8.4 oz',\n",
              "       '4.11 lbs                                                                                      4.11 pounds',\n",
              "       '39.5 pounds', '10 oz', '4.8 oz', '1.4 pounds', '10 pounds',\n",
              "       '1.7 pounds', '22.5 lb', '41.01 lb', '10.8 oz', '6.9 pounds',\n",
              "       '0.8 pounds', '5.7 lb 3.3 lb', '14 pounds', '2.05 pounds',\n",
              "       '10.72 ounces', '0.4 oz', '13.7 lb', '3.08 pounds', '28.5 lb',\n",
              "       '18.8 lb', '5.2 pounds', '2.17 lb', '6 ounces', '1.43 lb',\n",
              "       '2.7 pounds', 'Electronics', '1.95 lb', '6.2 pounds', '2.2 pounds',\n",
              "       '0.563 pounds', '20.00 lb', '5.8 pounds', '6.70 oz', '0.64 ounces',\n",
              "       '60 pounds', '63.5 pounds', '0.16 ounces', '0.53 pounds',\n",
              "       '3.68 ounces', '21.0 lbs', '1.12 ounces', '13 ounces', '0.88 lbs',\n",
              "       '4.76 pounds', '3.1 oz', '3 lb', '6.5 lb', '2.4 pounds',\n",
              "       '18 pounds', '7.7 ounces', '7.9 oz', '1.1 lbs', '4 pounds',\n",
              "       '9.9 oz 4.6 oz', '92.6 pounds', '5.4 oz', '3.94 lb', '4.94 pounds',\n",
              "       '127 pounds', '10.15 pounds', '3.8 lb', '6.2 ounces',\n",
              "       '0.86 pounds', '8.82 lb', '13.6 pounds', '1.45 pounds',\n",
              "       '4.2 pounds', '39.7 pounds',\n",
              "       '1.98 lbs                                                                                                1.98 pounds',\n",
              "       '4.81 pounds', '16.9 lb', '2.9 lb', '3.4 pounds', '52.4 pounds',\n",
              "       '2.98 lb', '27.8 pounds',\n",
              "       '5.5 lbs                                                                                      5.5 pounds',\n",
              "       '1.65 pounds', '20.8 lb', '63.7 pounds', '34 g', '9.3 pounds',\n",
              "       '7.1 lb', '1.6 oz', '5.13 ounces', '26.5 ounces',\n",
              "       '1.6 lbs                                                                                                1.6 pounds',\n",
              "       '30.86 lb', '6.1 lb', '8.28 lb', '6.95 pounds', '15.0 pounds',\n",
              "       '15.0 lb', '0.66 lb', '0.14 ounces',\n",
              "       '0.75 lb                                                                                      12 ounces',\n",
              "       '3.5 ounces', '41.5 pounds', '17.2 lb', '62.8 pounds',\n",
              "       '31.6 ounces', '7.9 pounds', '1.58 pounds', '26.8 lb', '12 oz',\n",
              "       '6.42 oz', '75 pounds', '14.4 ounces', '8 ounces', '4.6 ounces',\n",
              "       '3.2 ounces', '0.4 ounces', '11.7 ounces',\n",
              "       '0.64 ounces                                                                                                0.64 ounces',\n",
              "       '12 ounces', '17 pounds', '82 pounds', '16 pounds',\n",
              "       'http://www.walmart.com/ip/Kenwood-DDX9703S-6-95-Double-DIN-In-Dash-DVD-Receiver-with-Bluetooth-Apple-CarPlay-Android-Auto-HD-Radio-and-SiriusXM-Ready/54695274,https://www.amazon.com/Kenwood-DDX9703S-Stereo-Carplay-Android/dp/B01GITWG5S/,https://www.ebay.com/urw/product-reviews/6003304884?_itm=282520765993,https://www.ebay.com/urw/product-reviews/6003304884?_itm=272989525770,https://www.walmart.com/ip/Kenwood-DDX9703S-6-95-Double-DIN-In-Dash-DVD-Receiver-with-Bluetooth-Apple-CarPlay-Android-Auto-HD-Radio-and-SiriusXM-Ready/54695274,http://reviews.bestbuy.com/3545/4969400/reviews.htm?format=embedded,https://www.bestbuy.com/site/kenwood-6-95-android-auto-apple-carplay-built-in-bluetooth-in-dash-cd-dvd-dm-receiver-black/4969400.p?skuId=4969400,http://www.ebay.com/itm/Kenwood-6-95-Android-Auto-Apple-CarPlay-Built-in-Bluetooth-In-Dash-/322229392622?hash=item4b065e54ee,http://reviews.bestbuy.com/3545/4969400/reviews.htm?format=embedded&page=28,http://reviews.bestbuy.com/3545/4969400/reviews.htm?format=embedded&page=27,http://reviews.bestbuy.com/3545/4969400/reviews.htm?format=embedded&page=24,http://reviews.bestbuy.com/3545/4969400/reviews.htm?format=embedded&page=26,http://reviews.bestbuy.com/3545/4969400/reviews.htm?format=embedded&page=20,http://reviews.bestbuy.com/3545/4969400/reviews.htm?format=embedded&page=25,http://reviews.bestbuy.com/3545/4969400/reviews.htm?format=embedded&page=22,http://reviews.bestbuy.com/3545/4969400/reviews.htm?format=embedded&page=21,http://reviews.bestbuy.com/3545/4969400/reviews.htm?format=embedded&page=23,http://reviews.bestbuy.com/3545/4969400/reviews.htm?format=embedded&page=16,http://reviews.bestbuy.com/3545/4969400/reviews.htm?format=embedded&page=19,http://reviews.bestbuy.com/3545/4969400/reviews.htm?format=embedded&page=18,http://reviews.bestbuy.com/3545/4969400/reviews.htm?format=embedded&page=17,http://reviews.bestbuy.com/3545/4969400/reviews.htm?format=embedded&page=15,http://reviews.bestbuy.com/3545/4969400/reviews.htm?format=embedded&page=13,http://reviews.bestbuy.com/3545/4969400/reviews.htm?format=embedded&page=14,http://reviews.bestbuy.com/3545/4969400/reviews.htm?format=embedded&page=12,http://reviews.bestbuy.com/3545/4969400/reviews.htm?format=embedded&page=11,http://reviews.bestbuy.com/3545/4969400/reviews.htm?format=embedded&page=7,http://reviews.bestbuy.com/3545/4969400/reviews.htm?format=embedded&page=5,http://reviews.bestbuy.com/3545/4969400/reviews.htm?format=embedded&page=8,http://reviews.bestbuy.com/3545/4969400/reviews.htm?format=embedded&page=10,http://reviews.bestbuy.com/3545/4969400/reviews.htm?format=embedded&page=2,http://reviews.bestbuy.com/3545/4969400/reviews.htm?format=embedded&page=9,http://reviews.bestbuy.com/3545/4969400/reviews.htm?format=embedded&page=6,http://reviews.bestbuy.com/3545/4969400/reviews.htm?format=embedded&page=3,http://reviews.bestbuy.com/3545/4969400/reviews.htm?format=embedded&page=4,http://www.ebay.com/itm/Kenwood-DDX9703S-2-DIN-DVD-CD-Player-6-95-LCD-Android-iPhone-HD-Radio-Bluetooth/182198714536,http://www.bestbuy.com/site/kenwood-6-95-android-auto-apple-carplay-built-in-bluetooth-in-dash-cd-dvd-dm-receiver-black/4969400.p?skuId=4969400,http://www.ebay.com/itm/Kenwood-DDX9703S-Double-2-DIN-DVD-CD-Player-Android-iPhone-HD-Radio-Bluetooth-/201635793843,http://www.ebay.com/itm/KENWOOD-DDX9703S-2-DIN-6-95-TV-DVD-CD-Player-Android-iPhone-HD-Radio-Bluetooth-/292166538126,http://www.ebay.com/itm/Kenwood-DDX9703S-CarPlay-Android-Stereo-2DIN-In-Dash-DVD-CD-AMFM-6-95-Touch-NEW-/132239386357,http://www.ebay.com/itm/Kenwood-DDX9703S-Double-2-DIN-DVD-CD-Player-Android-iPhone-HD-Radio-Bluetooth-/352086023468,http://www.ebay.com/itm/Kenwood-DDX9703S-Double-2-DIN-DVD-CD-Player-Android-iPhone-HD-Radio-Bluetooth-/201635793843?hash=item2ef26e0bb3:g:x7sAAOSwwo1Xfwa0&vxp=mtr,http://www.ebay.com/itm/Kenwood-DDX9703S-Double-2-DIN-DVD-CD-Player-Android-iPhone-HD-Radio-Bluetooth-/352086023468?hash=item51f9f65d2c:g:BJAAAOSw1~JZPvFJ,http://www.ebay.com/itm/Kenwood-DDX9703S-Double-2-DIN-DVD-CD-Player-Android-iPhone-HD-Radio-Bluetooth-/162546830375?hash=item25d88bcc27:g:~UIAAOSw8GtZOdR6,http://www.frys.com/product/8773411,http://frys.com/product/8773411,https://www.amazon.ca/Kenwood-DDX9703S-DVD-receiver/dp/B01GITWG5S,https://www.walmart.com/ip/Kenwood-DDX9703S-6.95-Double-DIN-In-Dash-DVD-Receiver-with-Bluetooth-Apple-CarPlay-Android-Auto-HD-Radio-and-SiriusXM-Ready/54695274',\n",
              "       '1.3 pounds',\n",
              "       '0.8 ounces                                                                                                0.8 ounces',\n",
              "       '22.0 lb', '2.98 pounds',\n",
              "       '0.99 ounces                                                                                                0.96 ounces',\n",
              "       '60.0 lbs', '1.75 pounds', '5.75 pounds', '14.1 pounds',\n",
              "       '5.6 ounces', '15.25 pounds', '1.0 lbs', '54 pounds', '2.5 lb',\n",
              "       '14.8 lb', '3.9 oz', '4.32 pounds', '2.03 lb', '3.1 pounds',\n",
              "       '1.59 pounds', '0.51 pounds', '4.0 lb',\n",
              "       '3.68 ounces                                                                                      3.68 ounces',\n",
              "       '15.4 oz', '10.5 lbs', '31.31 pounds', '0.61 pounds',\n",
              "       '0.62 lb                                                                                                9.9 ounces',\n",
              "       '4.2 ounces', '1.8 lb', '16.9 pounds', '0.25 lb', '3.96 pounds',\n",
              "       '5.78 pounds', '3.04 ounces', '4.95 pounds', '1.18 ounces',\n",
              "       '3.1 ounces                                                                                                3.04 ounces',\n",
              "       '33.6 ounces', '2.8 pounds', '3.9 pounds', '7.57 lb', '32.8 lb',\n",
              "       '1.18 lb', '2.43 lb', '0.37 lb', '3.74 oz',\n",
              "       '0.85 lb                                                                                                13.6 ounces',\n",
              "       '14.67 oz 10.41 oz', '1.49 pounds', '3.85 pounds', '18.8 pounds',\n",
              "       '1.97 lbs                                                                                      1.97 pounds',\n",
              "       '7.2 pounds',\n",
              "       '2.44 lbs                                                                                      2.44 pounds',\n",
              "       '19.8 ounces', '885 g', '2.69 pounds', '13.8 ounces', '8.6 pounds',\n",
              "       '1.8 pounds', '12.9 pounds', '9.7 oz', '1 ounces',\n",
              "       '1.92 ounces                                                                                      1.92 ounces',\n",
              "       '30 pounds', '0.19 lb', '51.6 pounds', '6 lb', '0.27 pounds',\n",
              "       '5.9 lb', '6 oz',\n",
              "       '6.88 ounces                                                                                      6.9 ounces',\n",
              "       '2 lbs                                                                                                2 pounds',\n",
              "       '14.64 oz 3.88 oz 8.2 oz',\n",
              "       '0.48 ounces                                                                                                0.48 ounces',\n",
              "       '1.7637 pounds', '5.07 pounds', '8.8 ounces', '1.8 oz',\n",
              "       '0.575 pounds', '13.6 ounces', '1.06 pounds',\n",
              "       '2.31 lbs                                                                                      2.31 pounds',\n",
              "       '0.5 lb', '2.09 ounces', '1.93 pounds', '0.55 lb',\n",
              "       '4.6 oz 10.6 oz 1.1 lb', '13 pounds', '10.3 lb', '3.4 ounces',\n",
              "       '17.13 pounds', '3.88 oz', '1.26 pounds', '4.8 ounces', '5.3 lb',\n",
              "       '0.46 pounds', '1.4661 pounds',\n",
              "       '0.55 lb                                                                                                8.8 ounces',\n",
              "       '25.6 ounces', '2.43 pounds', '0.25 pounds', '23.8 lb',\n",
              "       '0.8 lb                                                                                      12.8 ounces',\n",
              "       '1.45 ounces', '12.8 ounces', '16.3 pounds', '7.9 lb', '10.6 oz',\n",
              "       '1.32 lb', '6.6 pounds', '36.0 lbs', '16.6 lb', '14.1 oz',\n",
              "       '6.65 pounds', '10.8 lb', '4.5 pounds', '0.163 pounds',\n",
              "       '1.35 pounds', '41 pounds', '7.8 ounces', '23.8 pounds',\n",
              "       '11.7 pounds', '5.29 lbs', '25.3 pounds', '0.4 lb', '0.68 lb',\n",
              "       '9.2 lb', '6.7 pounds', '4.6 oz', '9.6 ounces', '6.8 lb',\n",
              "       '44.1 pounds', '35.1 pounds', '28.7 pounds', '0.45 oz',\n",
              "       '17.1 pounds', '20.7 pounds', '2.4 lb', '3.35 pounds',\n",
              "       '0.79 lb                                                                                                12.6 ounces',\n",
              "       '1.55 pounds', '1.25 lbs', '25 lb', '13.4 ounces',\n",
              "       '1.19 lbs                                                                                                1.19 pounds',\n",
              "       '0.238 pounds', '12 lbs', '1.9 pounds', '0.59 pounds',\n",
              "       '58.9 pounds', '16.4 pounds', '0.71 lb', '3 ounces', '4.79 pounds',\n",
              "       '9.9 ounces', '13.9 oz', '18.06 pounds', '24 oz', '12.5 lb',\n",
              "       '0.13 pounds', '31.9 pounds', '22 lb', '19.8 lb', '8.15 ounces',\n",
              "       '4.16 ounces', '6.9 lb',\n",
              "       '0.96 lb                                                                                      15.5 ounces',\n",
              "       '3.02 lb',\n",
              "       '0.66 lb                                                                                                10.6 ounces',\n",
              "       '77.1 lb', '11.2 oz',\n",
              "       '1 lb                                                                                                1 pounds',\n",
              "       '15.98 oz', '4.8 pounds', '1.41 lb', '9 ounces', '3.05 pounds',\n",
              "       '22.7 lb', '11.2 lb', '9.0 kg',\n",
              "       '5.7 lbs                                                                                                5.7 pounds',\n",
              "       '29.5 pounds', '22.2 lb', '5.2 ounces', '1.94 pounds', '3.0 lbs',\n",
              "       '3.31 pounds', '5.0 oz', '17.64 pounds', '19 pounds',\n",
              "       '2.35 pounds', '2.91 ounces', '26.0 lb', '0.56 pounds',\n",
              "       '140 Pounds', '39.7 lb', '2.9 pounds', '11.64 oz', '0.04 pounds',\n",
              "       '12.3 pounds',\n",
              "       '4.75 ounces                                                                                      4.8 ounces',\n",
              "       '0.7 oz', '0.38 pounds', '8.1 oz', '18 g', '0.6 pounds',\n",
              "       '3.5 pounds', '5.5 pounds', '3.3 pounds', '10.1 pounds',\n",
              "       '3.8 pounds', '27.4 pounds', '13.8 pounds', '4.34 ounces',\n",
              "       '5.2 lb', '1 oz', '32 pounds', '0.684 pounds',\n",
              "       '1.6 lb 2.6 lb 1.6 lb 18.7 lb', '32.6 pounds', '6.88 oz',\n",
              "       '5.95 lb', '0.1 pounds', '20.7 lb', '1.15 pounds', '17.6 pounds',\n",
              "       '26.2 pounds', '3.2 pounds', '31.8 pounds', '6.7 ounces',\n",
              "       '5.76 oz', '2.4 oz', '1.30 oz', '17.2 pounds', '8.4 pounds',\n",
              "       '29 pounds', '2 ounces', '0.91875 pounds', '24.3 pounds',\n",
              "       '0.77 lb', '26.5 pounds', '78.1 pounds', '1.52 lb', '8 lb',\n",
              "       '11.0 lb', '4.7 pounds', '9.2 oz', '37.13 pounds', '2.7 Kg',\n",
              "       '10.9 oz', '40.1 lb',\n",
              "       '5.6 ounces                                                                                                5.6 ounces',\n",
              "       '13.4 lb', '15.1 oz', '8.1 pounds', '1.1 oz',\n",
              "       '25.79 lbs                                                                                      25.8 pounds',\n",
              "       '17.05 pounds', '12.5 ounces', '7.3 pounds',\n",
              "       '6.35 ounces                                                                                      6.4 ounces',\n",
              "       '5.1 lb', '15.3 lbs', '4.9 lb',\n",
              "       '2.51 lbs                                                                                      2.51 pounds',\n",
              "       '0.71 oz', '18.31 pounds', '15.2 lb', '10.7 oz', '34 pounds',\n",
              "       '19.4 lb', '7.3 lb', '25.8 lb', '0.2 lbs',\n",
              "       '0.48 ounces                                                                                      0.48 ounces',\n",
              "       '14.6 ounces', '1.4 ounces', '6.4 lb', '1 lb. 8 oz.',\n",
              "       '0.96 ounces', '0.017 pounds', '59.3 pounds', '0.09 pounds',\n",
              "       '2.3 pounds', '20.2 pounds', '7.4 oz', '67 lb', '250 pounds',\n",
              "       '43.2 pounds', '0.6 lb', '0.69 pounds', '0.5 oz', '2 lb',\n",
              "       '12.0 lbs', '16.50 pounds', '9 Kg', '12.4 pounds', '0 pounds',\n",
              "       '20.2 lb',\n",
              "       '3.04 ounces                                                                                      3.04 ounces',\n",
              "       '4.00 lb', '6.2 lb', '2.95 pounds', '165 pounds', '0.4 lbs',\n",
              "       '1.32 pounds', '8.05 pounds', '7 lb',\n",
              "       '1.38 lbs                                                                                                1.38 pounds',\n",
              "       '22.1 pounds', '34.8 lb', '1.9 oz', '5.22 oz', '45.6 pounds',\n",
              "       '15.7 pounds', '41.5 lb', '7 ounces', '0.63 oz', '13.2 pounds',\n",
              "       '1.00 lb', '0.15 pounds', '2.25 pounds', '4 lbs', '32.8 pounds',\n",
              "       '18.6 pounds'], dtype=object)"
            ]
          },
          "metadata": {
            "tags": []
          },
          "execution_count": 43
        }
      ]
    },
    {
      "cell_type": "code",
      "metadata": {
        "colab": {
          "base_uri": "https://localhost:8080/"
        },
        "id": "kWI235lbywDO",
        "outputId": "b77290a2-64ef-4b76-995e-4019b7c9f1d4"
      },
      "source": [
        "ep_data.info()"
      ],
      "execution_count": null,
      "outputs": [
        {
          "output_type": "stream",
          "text": [
            "<class 'pandas.core.frame.DataFrame'>\n",
            "RangeIndex: 5436 entries, 0 to 5435\n",
            "Data columns (total 25 columns):\n",
            " #   Column               Non-Null Count  Dtype  \n",
            "---  ------               --------------  -----  \n",
            " 0   id                   5436 non-null   object \n",
            " 1   prices.availability  5436 non-null   object \n",
            " 2   prices.condition     5436 non-null   object \n",
            " 3   prices.currency      5436 non-null   object \n",
            " 4   prices.dateSeen      5436 non-null   object \n",
            " 5   prices.isSale        5436 non-null   bool   \n",
            " 6   prices.merchant      5436 non-null   object \n",
            " 7   prices.shipping      3199 non-null   object \n",
            " 8   prices.sourceURLs    5436 non-null   object \n",
            " 9   asins                5436 non-null   object \n",
            " 10  brand                5436 non-null   object \n",
            " 11  categories           5436 non-null   object \n",
            " 12  dateAdded            5436 non-null   object \n",
            " 13  dateUpdated          5436 non-null   object \n",
            " 14  ean                  1175 non-null   object \n",
            " 15  imageURLs            5436 non-null   object \n",
            " 16  keys                 5436 non-null   object \n",
            " 17  manufacturer         2477 non-null   object \n",
            " 18  manufacturerNumber   5436 non-null   object \n",
            " 19  name                 5436 non-null   object \n",
            " 20  primaryCategories    5436 non-null   object \n",
            " 21  sourceURLs           5436 non-null   object \n",
            " 22  upc                  5436 non-null   object \n",
            " 23  weight               5436 non-null   object \n",
            " 24  price                5436 non-null   float64\n",
            "dtypes: bool(1), float64(1), object(23)\n",
            "memory usage: 1.0+ MB\n"
          ],
          "name": "stdout"
        }
      ]
    },
    {
      "cell_type": "code",
      "metadata": {
        "id": "q9FdWOfRy_OY"
      },
      "source": [
        "##Data Cleaning & Data Preparation\n",
        "col_to_drop = ['id', 'prices.sourceURLs', 'categories', 'dateAdded', 'dateUpdated', 'ean',\n",
        "'imageURLs', 'keys', 'manufacturerNumber', 'name','sourceURLs','upc', 'prices.dateSeen']\n",
        "\n",
        "ep_data.drop(col_to_drop, axis = 1, inplace=True)"
      ],
      "execution_count": null,
      "outputs": []
    },
    {
      "cell_type": "code",
      "metadata": {
        "id": "Q-jQNrpLzJbv"
      },
      "source": [
        "ep_data = ep_data[ep_data.weight != 'Electronics']"
      ],
      "execution_count": null,
      "outputs": []
    },
    {
      "cell_type": "code",
      "metadata": {
        "colab": {
          "base_uri": "https://localhost:8080/",
          "height": 296
        },
        "id": "NzfuA9luDmOT",
        "outputId": "dc4f1282-e357-4575-8010-984c1e7faf1b"
      },
      "source": [
        "ep_data.head()"
      ],
      "execution_count": null,
      "outputs": [
        {
          "output_type": "execute_result",
          "data": {
            "text/html": [
              "<div>\n",
              "<style scoped>\n",
              "    .dataframe tbody tr th:only-of-type {\n",
              "        vertical-align: middle;\n",
              "    }\n",
              "\n",
              "    .dataframe tbody tr th {\n",
              "        vertical-align: top;\n",
              "    }\n",
              "\n",
              "    .dataframe thead th {\n",
              "        text-align: right;\n",
              "    }\n",
              "</style>\n",
              "<table border=\"1\" class=\"dataframe\">\n",
              "  <thead>\n",
              "    <tr style=\"text-align: right;\">\n",
              "      <th></th>\n",
              "      <th>prices.availability</th>\n",
              "      <th>prices.condition</th>\n",
              "      <th>prices.currency</th>\n",
              "      <th>prices.isSale</th>\n",
              "      <th>prices.merchant</th>\n",
              "      <th>prices.shipping</th>\n",
              "      <th>asins</th>\n",
              "      <th>brand</th>\n",
              "      <th>manufacturer</th>\n",
              "      <th>primaryCategories</th>\n",
              "      <th>weight</th>\n",
              "      <th>price</th>\n",
              "    </tr>\n",
              "  </thead>\n",
              "  <tbody>\n",
              "    <tr>\n",
              "      <th>0</th>\n",
              "      <td>Yes</td>\n",
              "      <td>New</td>\n",
              "      <td>USD</td>\n",
              "      <td>False</td>\n",
              "      <td>Bestbuy.com</td>\n",
              "      <td>NaN</td>\n",
              "      <td>B00I9HD8PK</td>\n",
              "      <td>Grace Digital</td>\n",
              "      <td>Ecoxgear</td>\n",
              "      <td>Electronics</td>\n",
              "      <td>3 pounds</td>\n",
              "      <td>92.99</td>\n",
              "    </tr>\n",
              "    <tr>\n",
              "      <th>1</th>\n",
              "      <td>Yes</td>\n",
              "      <td>New</td>\n",
              "      <td>USD</td>\n",
              "      <td>False</td>\n",
              "      <td>Bestbuy.com</td>\n",
              "      <td>NaN</td>\n",
              "      <td>B06ZY63J8H</td>\n",
              "      <td>Lenovo</td>\n",
              "      <td>NaN</td>\n",
              "      <td>Electronics</td>\n",
              "      <td>4.3 pounds</td>\n",
              "      <td>229.99</td>\n",
              "    </tr>\n",
              "    <tr>\n",
              "      <th>2</th>\n",
              "      <td>Yes</td>\n",
              "      <td>New</td>\n",
              "      <td>USD</td>\n",
              "      <td>False</td>\n",
              "      <td>Bestbuy.com</td>\n",
              "      <td>NaN</td>\n",
              "      <td>B00G3P9UMU</td>\n",
              "      <td>House of Marley</td>\n",
              "      <td>House Of Marley</td>\n",
              "      <td>Electronics</td>\n",
              "      <td>0.6 ounces</td>\n",
              "      <td>16.99</td>\n",
              "    </tr>\n",
              "    <tr>\n",
              "      <th>3</th>\n",
              "      <td>Yes</td>\n",
              "      <td>New</td>\n",
              "      <td>USD</td>\n",
              "      <td>False</td>\n",
              "      <td>Bestbuy.com</td>\n",
              "      <td>NaN</td>\n",
              "      <td>B00TTWZFFA</td>\n",
              "      <td>Sony</td>\n",
              "      <td>Sony</td>\n",
              "      <td>Electronics</td>\n",
              "      <td>1 pounds</td>\n",
              "      <td>69.99</td>\n",
              "    </tr>\n",
              "    <tr>\n",
              "      <th>4</th>\n",
              "      <td>More on the Way</td>\n",
              "      <td>New</td>\n",
              "      <td>USD</td>\n",
              "      <td>True</td>\n",
              "      <td>bhphotovideo.com</td>\n",
              "      <td>Free Expedited Shipping for most orders over $49</td>\n",
              "      <td>B00MHPAF38</td>\n",
              "      <td>Sony</td>\n",
              "      <td>NaN</td>\n",
              "      <td>Electronics</td>\n",
              "      <td>9.98 oz 4.09 oz</td>\n",
              "      <td>846.00</td>\n",
              "    </tr>\n",
              "  </tbody>\n",
              "</table>\n",
              "</div>"
            ],
            "text/plain": [
              "  prices.availability prices.condition  ...           weight   price\n",
              "0                 Yes              New  ...         3 pounds   92.99\n",
              "1                 Yes              New  ...       4.3 pounds  229.99\n",
              "2                 Yes              New  ...       0.6 ounces   16.99\n",
              "3                 Yes              New  ...         1 pounds   69.99\n",
              "4     More on the Way              New  ...  9.98 oz 4.09 oz  846.00\n",
              "\n",
              "[5 rows x 12 columns]"
            ]
          },
          "metadata": {
            "tags": []
          },
          "execution_count": 47
        }
      ]
    },
    {
      "cell_type": "code",
      "metadata": {
        "colab": {
          "base_uri": "https://localhost:8080/"
        },
        "id": "0APBXk2eD4m_",
        "outputId": "1d870079-f39e-49b4-8173-b0cb94eb6356"
      },
      "source": [
        "ep_data['primaryCategories'].unique()"
      ],
      "execution_count": null,
      "outputs": [
        {
          "output_type": "execute_result",
          "data": {
            "text/plain": [
              "array(['Electronics', ' Intel Celeron', 'Electronics,Furniture',\n",
              "       ' Apple CarPlay'], dtype=object)"
            ]
          },
          "metadata": {
            "tags": []
          },
          "execution_count": 49
        }
      ]
    },
    {
      "cell_type": "code",
      "metadata": {
        "id": "4sFKlJK-zLzI"
      },
      "source": [
        "def f(r):\n",
        "  if len(r) <20:\n",
        "    return float(r.split()[0])\n",
        "  else:\n",
        "    return 'z'\n",
        "ep_data.weight = ep_data.weight.apply(f)"
      ],
      "execution_count": null,
      "outputs": []
    },
    {
      "cell_type": "code",
      "metadata": {
        "id": "1f14arVEzWGi"
      },
      "source": [
        "ep_data = ep_data[ep_data.weight != 'z']"
      ],
      "execution_count": null,
      "outputs": []
    },
    {
      "cell_type": "code",
      "metadata": {
        "id": "AQg5n8Eczo4j"
      },
      "source": [
        "ep_data.weight = ep_data.weight.astype('float')"
      ],
      "execution_count": null,
      "outputs": []
    },
    {
      "cell_type": "code",
      "metadata": {
        "id": "c1Gk5Dkbzrfx"
      },
      "source": [
        "# Fill missing data\n",
        "ep_data['prices.shipping'].fillna(ep_data['prices.shipping'].mode().iloc[0], inplace = True)\n",
        "ep_data['manufacturer'].fillna(ep_data['manufacturer'].mode().iloc[0], inplace = True)\n",
        "ep_data.weight.fillna(ep_data.weight.mean(), inplace = True)"
      ],
      "execution_count": null,
      "outputs": []
    },
    {
      "cell_type": "code",
      "metadata": {
        "colab": {
          "base_uri": "https://localhost:8080/"
        },
        "id": "HBJcUATPzu9s",
        "outputId": "e7005676-86d5-4fac-eb2d-78600e0630bf"
      },
      "source": [
        "ep_data.info()"
      ],
      "execution_count": null,
      "outputs": [
        {
          "output_type": "stream",
          "text": [
            "<class 'pandas.core.frame.DataFrame'>\n",
            "Int64Index: 5043 entries, 0 to 5435\n",
            "Data columns (total 12 columns):\n",
            " #   Column               Non-Null Count  Dtype  \n",
            "---  ------               --------------  -----  \n",
            " 0   prices.availability  5043 non-null   object \n",
            " 1   prices.condition     5043 non-null   object \n",
            " 2   prices.currency      5043 non-null   object \n",
            " 3   prices.isSale        5043 non-null   bool   \n",
            " 4   prices.merchant      5043 non-null   object \n",
            " 5   prices.shipping      5043 non-null   object \n",
            " 6   asins                5043 non-null   object \n",
            " 7   brand                5043 non-null   object \n",
            " 8   manufacturer         5043 non-null   object \n",
            " 9   primaryCategories    5043 non-null   object \n",
            " 10  weight               5043 non-null   float64\n",
            " 11  price                5043 non-null   float64\n",
            "dtypes: bool(1), float64(2), object(9)\n",
            "memory usage: 477.7+ KB\n"
          ],
          "name": "stdout"
        }
      ]
    },
    {
      "cell_type": "code",
      "metadata": {
        "id": "AKPoMD0mzz3c"
      },
      "source": [
        "col = ['prices.availability','prices.condition','prices.currency', 'prices.isSale', 'prices.merchant', 'prices.shipping', 'asins', 'brand', 'manufacturer', 'primaryCategories']"
      ],
      "execution_count": null,
      "outputs": []
    },
    {
      "cell_type": "code",
      "metadata": {
        "id": "AXrEyLStz3kk"
      },
      "source": [
        "from sklearn.preprocessing import OneHotEncoder\n",
        "ohe = OneHotEncoder(handle_unknown='ignore')\n",
        "ohe.fit(ep_data[col])\n",
        "encoded = ohe.transform(ep_data[col]).toarray()\n",
        "features = ohe.get_feature_names(col)\n",
        "ep_data[features] = encoded"
      ],
      "execution_count": null,
      "outputs": []
    },
    {
      "cell_type": "code",
      "metadata": {
        "id": "NDGZitF6z7AO"
      },
      "source": [
        "ep_data.drop(col, axis = 1, inplace=True)"
      ],
      "execution_count": null,
      "outputs": []
    },
    {
      "cell_type": "code",
      "metadata": {
        "id": "rZdU06Blz_lz"
      },
      "source": [
        "##Separating Input Features and Output Features\n",
        "# Input/independent variables\n",
        "X = ep_data.drop('price', axis = 1) # her we are droping the 'price' feature as this is the target and 'X' is input features, the changes are not\n",
        "# made inplace as we have not used 'inplace = True'\n",
        "\n",
        "y = ep_data.price # Output/Dependent variable"
      ],
      "execution_count": null,
      "outputs": []
    },
    {
      "cell_type": "code",
      "metadata": {
        "id": "bHYYtoak0E5b"
      },
      "source": [
        "#Splitting the data into Train and Validation Set\n",
        "# import train_test_split\n",
        "from sklearn.model_selection import train_test_split"
      ],
      "execution_count": null,
      "outputs": []
    },
    {
      "cell_type": "code",
      "metadata": {
        "id": "NhAGkYKU0Jtc"
      },
      "source": [
        "# split the data\n",
        "X_train, X_val, y_train, y_val = train_test_split(X,y,test_size=0.3, random_state = 42)\n",
        "\n",
        "# X_train: independent/input feature data for training the model\n",
        "# y_train: dependent/output feature data for training the model\n",
        "# X_test: independent/input feature data for testing the model; will be used to predict the output values\n",
        "# y_test: original dependent/output values of X_test; We will compare this values with our predicted values to check the performance of our built model.\n",
        "\n",
        "# test_size = 0.30: 30% of the data will go for test set and 70% of the data will go for train set\n",
        "# random_state = 42: this will fix the split i.e. there will be same split for each time you run the co"
      ],
      "execution_count": null,
      "outputs": []
    },
    {
      "cell_type": "code",
      "metadata": {
        "id": "4_4tn8KD0L07"
      },
      "source": [
        "##Building Model\n",
        "#import Linear regression from sklearn\n",
        "from sklearn.linear_model import LinearRegression"
      ],
      "execution_count": null,
      "outputs": []
    },
    {
      "cell_type": "code",
      "metadata": {
        "id": "Kjz_jMYg0P4Y"
      },
      "source": [
        "lr = LinearRegression()"
      ],
      "execution_count": null,
      "outputs": []
    },
    {
      "cell_type": "code",
      "metadata": {
        "colab": {
          "base_uri": "https://localhost:8080/"
        },
        "id": "qjRQaE370RR3",
        "outputId": "d2fb1975-e25d-40b4-ca70-4a767e141cd1"
      },
      "source": [
        "lr.fit(X_train, y_train)"
      ],
      "execution_count": null,
      "outputs": [
        {
          "output_type": "execute_result",
          "data": {
            "text/plain": [
              "LinearRegression(copy_X=True, fit_intercept=True, n_jobs=None, normalize=False)"
            ]
          },
          "metadata": {
            "tags": []
          },
          "execution_count": 63
        }
      ]
    },
    {
      "cell_type": "code",
      "metadata": {
        "id": "61dh_wrt0SsK"
      },
      "source": [
        "##Validate The Model\n",
        "pred = lr.predict(X_val)"
      ],
      "execution_count": null,
      "outputs": []
    },
    {
      "cell_type": "code",
      "metadata": {
        "id": "WaCr_WN80WRx"
      },
      "source": [
        "##Model Evaluation\n",
        "# import mean squared error from sklearn.metric\n",
        "from sklearn.metrics import mean_squared_error"
      ],
      "execution_count": null,
      "outputs": []
    },
    {
      "cell_type": "code",
      "metadata": {
        "colab": {
          "base_uri": "https://localhost:8080/"
        },
        "id": "QfR1H1xq0ZYk",
        "outputId": "b28524b4-ea1d-408a-ebae-e9f057d490a5"
      },
      "source": [
        "print('Root Mean Squared Error is: ', np.sqrt(mean_squared_error(y_val, pred)))\n",
        "\n",
        "# y_val is the original target value of the validation set (X_val)\n",
        "# pred is the predicted target value of the validation set"
      ],
      "execution_count": null,
      "outputs": [
        {
          "output_type": "stream",
          "text": [
            "Root Mean Squared Error is:  391821721954.2718\n"
          ],
          "name": "stdout"
        }
      ]
    },
    {
      "cell_type": "code",
      "metadata": {
        "id": "nys6f8qx0bBw"
      },
      "source": [
        "##Predict The Output For Testing Dataset\n",
        "test_data = pd.read_csv('https://raw.githubusercontent.com/dphi-official/Datasets/master/electronic_product/electronic_product/Testing_set_label.csv')"
      ],
      "execution_count": null,
      "outputs": []
    },
    {
      "cell_type": "code",
      "metadata": {
        "colab": {
          "base_uri": "https://localhost:8080/"
        },
        "id": "dXQCJG9T0hoM",
        "outputId": "c04a5adc-f018-4a12-d050-4963c7f04dee"
      },
      "source": [
        "test_data.info()"
      ],
      "execution_count": null,
      "outputs": [
        {
          "output_type": "stream",
          "text": [
            "<class 'pandas.core.frame.DataFrame'>\n",
            "RangeIndex: 1666 entries, 0 to 1665\n",
            "Data columns (total 24 columns):\n",
            " #   Column               Non-Null Count  Dtype \n",
            "---  ------               --------------  ----- \n",
            " 0   id                   1666 non-null   object\n",
            " 1   prices.availability  1666 non-null   object\n",
            " 2   prices.condition     1666 non-null   object\n",
            " 3   prices.currency      1666 non-null   object\n",
            " 4   prices.dateSeen      1666 non-null   object\n",
            " 5   prices.isSale        1666 non-null   bool  \n",
            " 6   prices.merchant      1666 non-null   object\n",
            " 7   prices.shipping      993 non-null    object\n",
            " 8   prices.sourceURLs    1666 non-null   object\n",
            " 9   asins                1666 non-null   object\n",
            " 10  brand                1666 non-null   object\n",
            " 11  categories           1666 non-null   object\n",
            " 12  dateAdded            1666 non-null   object\n",
            " 13  dateUpdated          1666 non-null   object\n",
            " 14  ean                  339 non-null    object\n",
            " 15  imageURLs            1666 non-null   object\n",
            " 16  keys                 1666 non-null   object\n",
            " 17  manufacturer         696 non-null    object\n",
            " 18  manufacturerNumber   1666 non-null   object\n",
            " 19  name                 1666 non-null   object\n",
            " 20  primaryCategories    1666 non-null   object\n",
            " 21  sourceURLs           1666 non-null   object\n",
            " 22  upc                  1666 non-null   object\n",
            " 23  weight               1666 non-null   object\n",
            "dtypes: bool(1), object(23)\n",
            "memory usage: 301.1+ KB\n"
          ],
          "name": "stdout"
        }
      ]
    },
    {
      "cell_type": "code",
      "metadata": {
        "id": "FcIMFxET0iwt"
      },
      "source": [
        "col_to_drop = ['id', 'prices.sourceURLs', 'categories', 'dateAdded', 'dateUpdated', 'ean',\n",
        "'imageURLs', 'keys', 'manufacturerNumber', 'name','sourceURLs','upc', 'prices.dateSeen']\n",
        "\n",
        "test_data.drop(col_to_drop, axis = 1, inplace=True)"
      ],
      "execution_count": null,
      "outputs": []
    },
    {
      "cell_type": "code",
      "metadata": {
        "id": "YrausZ0r0oIB"
      },
      "source": [
        "def f(r):\n",
        "  r = str(r)\n",
        "  if len(r) <20 and r != 'Electronics':\n",
        "    return float(r.split()[0])\n",
        "  else:\n",
        "    return 0\n",
        "test_data.weight = test_data.weight.apply(f)"
      ],
      "execution_count": null,
      "outputs": []
    },
    {
      "cell_type": "code",
      "metadata": {
        "id": "5hcSiz_A0shg"
      },
      "source": [
        "test_data.weight = test_data.weight.astype('float')"
      ],
      "execution_count": null,
      "outputs": []
    },
    {
      "cell_type": "code",
      "metadata": {
        "id": "PBrQ7MzP0unL"
      },
      "source": [
        "# Fill missing data\n",
        "test_data['prices.shipping'].fillna(test_data['prices.shipping'].mode().iloc[0], inplace = True)\n",
        "test_data['manufacturer'].fillna(test_data['manufacturer'].mode().iloc[0], inplace = True)\n",
        "test_data.weight.fillna(test_data.weight.mean(), inplace = True)"
      ],
      "execution_count": null,
      "outputs": []
    },
    {
      "cell_type": "code",
      "metadata": {
        "id": "q3sTskQT0wgL"
      },
      "source": [
        "features = ohe.get_feature_names(col)\n",
        "test_data[features] = ohe.transform(test_data[col]).toarray()\n",
        "test_data.drop(col, axis = 1, inplace = True)"
      ],
      "execution_count": null,
      "outputs": []
    },
    {
      "cell_type": "code",
      "metadata": {
        "id": "eMNKT-iE0yMK"
      },
      "source": [
        "test_data.replace([np.inf, -np.inf], np.nan, inplace=True)"
      ],
      "execution_count": null,
      "outputs": []
    },
    {
      "cell_type": "code",
      "metadata": {
        "id": "tiIVmxZu0zy-"
      },
      "source": [
        "test_data.fillna(0, inplace=True)"
      ],
      "execution_count": null,
      "outputs": []
    },
    {
      "cell_type": "code",
      "metadata": {
        "id": "IoyWJS4w01BB"
      },
      "source": [
        "##Make Prediction on Test Dataset\n",
        "target = lr.predict(test_data)"
      ],
      "execution_count": null,
      "outputs": []
    },
    {
      "cell_type": "code",
      "metadata": {
        "id": "BNHOulas04Ft"
      },
      "source": [
        "res = pd.DataFrame(target) #target is nothing but the final predictions of your model on input features of your new unseen test data\n",
        "res.index = test_data.index # its important for comparison. Here \"test_new\" is your new test dataset\n",
        "res.columns = [\"prediction\"]\n",
        "res.to_csv(\"submission.csv\") # the csv file will be saved locally on the same location where this notebook is located."
      ],
      "execution_count": null,
      "outputs": []
    },
    {
      "cell_type": "code",
      "metadata": {
        "colab": {
          "base_uri": "https://localhost:8080/",
          "height": 17
        },
        "id": "bY2Q4PLW057o",
        "outputId": "ef5f6ebf-035e-4deb-c852-beb1494f8304"
      },
      "source": [
        "# To create Dataframe of predicted value with particular respective index\n",
        "res = pd.DataFrame(target) # target are nothing but the final predictions of your model on input features of your new unseen test data\n",
        "res.index = test_data.index # its important for comparison. Here \"test_new\" is your new test dataset\n",
        "res.columns = [\"prediction\"]\n",
        "\n",
        "# To download the csv file locally\n",
        "from google.colab import files\n",
        "res.to_csv('submission.csv')\n",
        "files.download('submission.csv')"
      ],
      "execution_count": null,
      "outputs": [
        {
          "output_type": "display_data",
          "data": {
            "application/javascript": [
              "\n",
              "    async function download(id, filename, size) {\n",
              "      if (!google.colab.kernel.accessAllowed) {\n",
              "        return;\n",
              "      }\n",
              "      const div = document.createElement('div');\n",
              "      const label = document.createElement('label');\n",
              "      label.textContent = `Downloading \"${filename}\": `;\n",
              "      div.appendChild(label);\n",
              "      const progress = document.createElement('progress');\n",
              "      progress.max = size;\n",
              "      div.appendChild(progress);\n",
              "      document.body.appendChild(div);\n",
              "\n",
              "      const buffers = [];\n",
              "      let downloaded = 0;\n",
              "\n",
              "      const channel = await google.colab.kernel.comms.open(id);\n",
              "      // Send a message to notify the kernel that we're ready.\n",
              "      channel.send({})\n",
              "\n",
              "      for await (const message of channel.messages) {\n",
              "        // Send a message to notify the kernel that we're ready.\n",
              "        channel.send({})\n",
              "        if (message.buffers) {\n",
              "          for (const buffer of message.buffers) {\n",
              "            buffers.push(buffer);\n",
              "            downloaded += buffer.byteLength;\n",
              "            progress.value = downloaded;\n",
              "          }\n",
              "        }\n",
              "      }\n",
              "      const blob = new Blob(buffers, {type: 'application/binary'});\n",
              "      const a = document.createElement('a');\n",
              "      a.href = window.URL.createObjectURL(blob);\n",
              "      a.download = filename;\n",
              "      div.appendChild(a);\n",
              "      a.click();\n",
              "      div.remove();\n",
              "    }\n",
              "  "
            ],
            "text/plain": [
              "<IPython.core.display.Javascript object>"
            ]
          },
          "metadata": {
            "tags": []
          }
        },
        {
          "output_type": "display_data",
          "data": {
            "application/javascript": [
              "download(\"download_feae354a-08eb-4a9d-b2d9-7131d4828bce\", \"submission.csv\", 32088)"
            ],
            "text/plain": [
              "<IPython.core.display.Javascript object>"
            ]
          },
          "metadata": {
            "tags": []
          }
        }
      ]
    },
    {
      "cell_type": "code",
      "metadata": {
        "id": "K2EpJdiU08H2"
      },
      "source": [
        ""
      ],
      "execution_count": null,
      "outputs": []
    }
  ]
}