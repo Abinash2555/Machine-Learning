{
  "nbformat": 4,
  "nbformat_minor": 0,
  "metadata": {
    "colab": {
      "name": "Predict_the_House_Prices - King County.ipynb",
      "provenance": [],
      "authorship_tag": "ABX9TyM3eDqhj3JR8ApgZ4wL1Ciw",
      "include_colab_link": true
    },
    "kernelspec": {
      "name": "python3",
      "display_name": "Python 3"
    },
    "language_info": {
      "name": "python"
    }
  },
  "cells": [
    {
      "cell_type": "markdown",
      "metadata": {
        "id": "view-in-github",
        "colab_type": "text"
      },
      "source": [
        "<a href=\"https://colab.research.google.com/github/Abinash2555/Machine-Learning/blob/main/Predict_the_House_Prices_King_County.ipynb\" target=\"_parent\"><img src=\"https://colab.research.google.com/assets/colab-badge.svg\" alt=\"Open In Colab\"/></a>"
      ]
    },
    {
      "cell_type": "code",
      "metadata": {
        "id": "EW8MRnJGYPvU"
      },
      "source": [
        "import pandas as pd\n",
        "import numpy as np\n",
        "import matplotlib.pyplot as plt\n",
        "from sklearn.linear_model import LinearRegression\n",
        "from sklearn.model_selection import train_test_split\n",
        "import seaborn as sns"
      ],
      "execution_count": null,
      "outputs": []
    },
    {
      "cell_type": "code",
      "metadata": {
        "id": "EzUaj0mmYy9L"
      },
      "source": [
        "house_data = pd.read_csv('https://raw.githubusercontent.com/dphi-official/Datasets/master/kc_house_data/kc_house_data.csv')"
      ],
      "execution_count": null,
      "outputs": []
    },
    {
      "cell_type": "code",
      "metadata": {
        "colab": {
          "base_uri": "https://localhost:8080/",
          "height": 215
        },
        "id": "44XT8KinY17Y",
        "outputId": "1dc86733-2428-4d51-896d-c63d26d2eea4"
      },
      "source": [
        "house_data.head()"
      ],
      "execution_count": null,
      "outputs": [
        {
          "output_type": "execute_result",
          "data": {
            "text/html": [
              "<div>\n",
              "<style scoped>\n",
              "    .dataframe tbody tr th:only-of-type {\n",
              "        vertical-align: middle;\n",
              "    }\n",
              "\n",
              "    .dataframe tbody tr th {\n",
              "        vertical-align: top;\n",
              "    }\n",
              "\n",
              "    .dataframe thead th {\n",
              "        text-align: right;\n",
              "    }\n",
              "</style>\n",
              "<table border=\"1\" class=\"dataframe\">\n",
              "  <thead>\n",
              "    <tr style=\"text-align: right;\">\n",
              "      <th></th>\n",
              "      <th>price</th>\n",
              "      <th>bedrooms</th>\n",
              "      <th>bathrooms</th>\n",
              "      <th>sqft_living</th>\n",
              "      <th>sqft_lot</th>\n",
              "      <th>floors</th>\n",
              "      <th>waterfront</th>\n",
              "      <th>view</th>\n",
              "      <th>condition</th>\n",
              "      <th>grade</th>\n",
              "      <th>sqft_above</th>\n",
              "      <th>sqft_basement</th>\n",
              "      <th>yr_built</th>\n",
              "      <th>yr_renovated</th>\n",
              "      <th>zipcode</th>\n",
              "      <th>lat</th>\n",
              "      <th>long</th>\n",
              "      <th>sqft_living15</th>\n",
              "      <th>sqft_lot15</th>\n",
              "    </tr>\n",
              "  </thead>\n",
              "  <tbody>\n",
              "    <tr>\n",
              "      <th>0</th>\n",
              "      <td>221900.0</td>\n",
              "      <td>3</td>\n",
              "      <td>1.00</td>\n",
              "      <td>1180</td>\n",
              "      <td>5650</td>\n",
              "      <td>1.0</td>\n",
              "      <td>0</td>\n",
              "      <td>0</td>\n",
              "      <td>3</td>\n",
              "      <td>7</td>\n",
              "      <td>1180</td>\n",
              "      <td>0</td>\n",
              "      <td>1955</td>\n",
              "      <td>0</td>\n",
              "      <td>98178</td>\n",
              "      <td>47.5112</td>\n",
              "      <td>-122.257</td>\n",
              "      <td>1340</td>\n",
              "      <td>5650</td>\n",
              "    </tr>\n",
              "    <tr>\n",
              "      <th>1</th>\n",
              "      <td>538000.0</td>\n",
              "      <td>3</td>\n",
              "      <td>2.25</td>\n",
              "      <td>2570</td>\n",
              "      <td>7242</td>\n",
              "      <td>2.0</td>\n",
              "      <td>0</td>\n",
              "      <td>0</td>\n",
              "      <td>3</td>\n",
              "      <td>7</td>\n",
              "      <td>2170</td>\n",
              "      <td>400</td>\n",
              "      <td>1951</td>\n",
              "      <td>1991</td>\n",
              "      <td>98125</td>\n",
              "      <td>47.7210</td>\n",
              "      <td>-122.319</td>\n",
              "      <td>1690</td>\n",
              "      <td>7639</td>\n",
              "    </tr>\n",
              "    <tr>\n",
              "      <th>2</th>\n",
              "      <td>180000.0</td>\n",
              "      <td>2</td>\n",
              "      <td>1.00</td>\n",
              "      <td>770</td>\n",
              "      <td>10000</td>\n",
              "      <td>1.0</td>\n",
              "      <td>0</td>\n",
              "      <td>0</td>\n",
              "      <td>3</td>\n",
              "      <td>6</td>\n",
              "      <td>770</td>\n",
              "      <td>0</td>\n",
              "      <td>1933</td>\n",
              "      <td>0</td>\n",
              "      <td>98028</td>\n",
              "      <td>47.7379</td>\n",
              "      <td>-122.233</td>\n",
              "      <td>2720</td>\n",
              "      <td>8062</td>\n",
              "    </tr>\n",
              "    <tr>\n",
              "      <th>3</th>\n",
              "      <td>604000.0</td>\n",
              "      <td>4</td>\n",
              "      <td>3.00</td>\n",
              "      <td>1960</td>\n",
              "      <td>5000</td>\n",
              "      <td>1.0</td>\n",
              "      <td>0</td>\n",
              "      <td>0</td>\n",
              "      <td>5</td>\n",
              "      <td>7</td>\n",
              "      <td>1050</td>\n",
              "      <td>910</td>\n",
              "      <td>1965</td>\n",
              "      <td>0</td>\n",
              "      <td>98136</td>\n",
              "      <td>47.5208</td>\n",
              "      <td>-122.393</td>\n",
              "      <td>1360</td>\n",
              "      <td>5000</td>\n",
              "    </tr>\n",
              "    <tr>\n",
              "      <th>4</th>\n",
              "      <td>510000.0</td>\n",
              "      <td>3</td>\n",
              "      <td>2.00</td>\n",
              "      <td>1680</td>\n",
              "      <td>8080</td>\n",
              "      <td>1.0</td>\n",
              "      <td>0</td>\n",
              "      <td>0</td>\n",
              "      <td>3</td>\n",
              "      <td>8</td>\n",
              "      <td>1680</td>\n",
              "      <td>0</td>\n",
              "      <td>1987</td>\n",
              "      <td>0</td>\n",
              "      <td>98074</td>\n",
              "      <td>47.6168</td>\n",
              "      <td>-122.045</td>\n",
              "      <td>1800</td>\n",
              "      <td>7503</td>\n",
              "    </tr>\n",
              "  </tbody>\n",
              "</table>\n",
              "</div>"
            ],
            "text/plain": [
              "      price  bedrooms  bathrooms  ...     long  sqft_living15  sqft_lot15\n",
              "0  221900.0         3       1.00  ... -122.257           1340        5650\n",
              "1  538000.0         3       2.25  ... -122.319           1690        7639\n",
              "2  180000.0         2       1.00  ... -122.233           2720        8062\n",
              "3  604000.0         4       3.00  ... -122.393           1360        5000\n",
              "4  510000.0         3       2.00  ... -122.045           1800        7503\n",
              "\n",
              "[5 rows x 19 columns]"
            ]
          },
          "metadata": {
            "tags": []
          },
          "execution_count": 101
        }
      ]
    },
    {
      "cell_type": "code",
      "metadata": {
        "colab": {
          "base_uri": "https://localhost:8080/"
        },
        "id": "1-0tvd8zY7P1",
        "outputId": "f45bc5e4-b43d-45cf-e94e-56ee59456ca2"
      },
      "source": [
        "house_data.dtypes"
      ],
      "execution_count": null,
      "outputs": [
        {
          "output_type": "execute_result",
          "data": {
            "text/plain": [
              "price            float64\n",
              "bedrooms           int64\n",
              "bathrooms        float64\n",
              "sqft_living        int64\n",
              "sqft_lot           int64\n",
              "floors           float64\n",
              "waterfront         int64\n",
              "view               int64\n",
              "condition          int64\n",
              "grade              int64\n",
              "sqft_above         int64\n",
              "sqft_basement      int64\n",
              "yr_built           int64\n",
              "yr_renovated       int64\n",
              "zipcode            int64\n",
              "lat              float64\n",
              "long             float64\n",
              "sqft_living15      int64\n",
              "sqft_lot15         int64\n",
              "dtype: object"
            ]
          },
          "metadata": {
            "tags": []
          },
          "execution_count": 102
        }
      ]
    },
    {
      "cell_type": "code",
      "metadata": {
        "id": "dAz8ZAvAZDcj"
      },
      "source": [
        "# Separate input features and output feature\n",
        "# input features\n",
        "X = house_data.drop(columns = ['price'])       \n",
        "\n",
        "# output feature\n",
        "Y = house_data.price    "
      ],
      "execution_count": null,
      "outputs": []
    },
    {
      "cell_type": "code",
      "metadata": {
        "colab": {
          "base_uri": "https://localhost:8080/",
          "height": 215
        },
        "id": "hf1DJv0yZQOO",
        "outputId": "731ce1cb-ebe5-4a08-ab7e-c842224ef9ea"
      },
      "source": [
        "from sklearn.preprocessing import StandardScaler\n",
        "scaled_features = StandardScaler().fit_transform(X)\n",
        "scaled_features = pd.DataFrame(data=scaled_features)\n",
        "scaled_features.columns= X.columns\n",
        "\n",
        "# Let's see how the data looks after scaling\n",
        "scaled_features.head()"
      ],
      "execution_count": null,
      "outputs": [
        {
          "output_type": "execute_result",
          "data": {
            "text/html": [
              "<div>\n",
              "<style scoped>\n",
              "    .dataframe tbody tr th:only-of-type {\n",
              "        vertical-align: middle;\n",
              "    }\n",
              "\n",
              "    .dataframe tbody tr th {\n",
              "        vertical-align: top;\n",
              "    }\n",
              "\n",
              "    .dataframe thead th {\n",
              "        text-align: right;\n",
              "    }\n",
              "</style>\n",
              "<table border=\"1\" class=\"dataframe\">\n",
              "  <thead>\n",
              "    <tr style=\"text-align: right;\">\n",
              "      <th></th>\n",
              "      <th>bedrooms</th>\n",
              "      <th>bathrooms</th>\n",
              "      <th>sqft_living</th>\n",
              "      <th>sqft_lot</th>\n",
              "      <th>floors</th>\n",
              "      <th>waterfront</th>\n",
              "      <th>view</th>\n",
              "      <th>condition</th>\n",
              "      <th>grade</th>\n",
              "      <th>sqft_above</th>\n",
              "      <th>sqft_basement</th>\n",
              "      <th>yr_built</th>\n",
              "      <th>yr_renovated</th>\n",
              "      <th>zipcode</th>\n",
              "      <th>lat</th>\n",
              "      <th>long</th>\n",
              "      <th>sqft_living15</th>\n",
              "      <th>sqft_lot15</th>\n",
              "    </tr>\n",
              "  </thead>\n",
              "  <tbody>\n",
              "    <tr>\n",
              "      <th>0</th>\n",
              "      <td>-0.390456</td>\n",
              "      <td>-1.399765</td>\n",
              "      <td>-0.966220</td>\n",
              "      <td>-0.240449</td>\n",
              "      <td>-0.848719</td>\n",
              "      <td>-0.089494</td>\n",
              "      <td>-0.312184</td>\n",
              "      <td>-0.674668</td>\n",
              "      <td>-0.507203</td>\n",
              "      <td>-0.708559</td>\n",
              "      <td>-0.673747</td>\n",
              "      <td>-0.440202</td>\n",
              "      <td>-0.217128</td>\n",
              "      <td>1.843706</td>\n",
              "      <td>-0.349494</td>\n",
              "      <td>-0.300172</td>\n",
              "      <td>-0.943227</td>\n",
              "      <td>-0.278170</td>\n",
              "    </tr>\n",
              "    <tr>\n",
              "      <th>1</th>\n",
              "      <td>-0.390456</td>\n",
              "      <td>0.247653</td>\n",
              "      <td>0.570691</td>\n",
              "      <td>-0.202502</td>\n",
              "      <td>1.113398</td>\n",
              "      <td>-0.089494</td>\n",
              "      <td>-0.312184</td>\n",
              "      <td>-0.674668</td>\n",
              "      <td>-0.507203</td>\n",
              "      <td>0.521641</td>\n",
              "      <td>0.213785</td>\n",
              "      <td>-0.583387</td>\n",
              "      <td>4.593975</td>\n",
              "      <td>0.864954</td>\n",
              "      <td>1.152253</td>\n",
              "      <td>-0.747333</td>\n",
              "      <td>-0.423169</td>\n",
              "      <td>-0.205726</td>\n",
              "    </tr>\n",
              "    <tr>\n",
              "      <th>2</th>\n",
              "      <td>-1.457513</td>\n",
              "      <td>-1.399765</td>\n",
              "      <td>-1.419554</td>\n",
              "      <td>-0.136762</td>\n",
              "      <td>-0.848719</td>\n",
              "      <td>-0.089494</td>\n",
              "      <td>-0.312184</td>\n",
              "      <td>-0.674668</td>\n",
              "      <td>-1.363086</td>\n",
              "      <td>-1.218036</td>\n",
              "      <td>-0.673747</td>\n",
              "      <td>-1.227719</td>\n",
              "      <td>-0.217128</td>\n",
              "      <td>-0.926349</td>\n",
              "      <td>1.273223</td>\n",
              "      <td>-0.127078</td>\n",
              "      <td>1.107286</td>\n",
              "      <td>-0.190319</td>\n",
              "    </tr>\n",
              "    <tr>\n",
              "      <th>3</th>\n",
              "      <td>0.676602</td>\n",
              "      <td>1.236104</td>\n",
              "      <td>-0.103781</td>\n",
              "      <td>-0.255942</td>\n",
              "      <td>-0.848719</td>\n",
              "      <td>-0.089494</td>\n",
              "      <td>-0.312184</td>\n",
              "      <td>2.325804</td>\n",
              "      <td>-0.507203</td>\n",
              "      <td>-0.870101</td>\n",
              "      <td>1.345388</td>\n",
              "      <td>-0.082239</td>\n",
              "      <td>-0.217128</td>\n",
              "      <td>1.068091</td>\n",
              "      <td>-0.280778</td>\n",
              "      <td>-1.281041</td>\n",
              "      <td>-0.913509</td>\n",
              "      <td>-0.301845</td>\n",
              "    </tr>\n",
              "    <tr>\n",
              "      <th>4</th>\n",
              "      <td>-0.390456</td>\n",
              "      <td>-0.081830</td>\n",
              "      <td>-0.413375</td>\n",
              "      <td>-0.182527</td>\n",
              "      <td>-0.848719</td>\n",
              "      <td>-0.089494</td>\n",
              "      <td>-0.312184</td>\n",
              "      <td>-0.674668</td>\n",
              "      <td>0.348680</td>\n",
              "      <td>-0.087246</td>\n",
              "      <td>-0.673747</td>\n",
              "      <td>0.705279</td>\n",
              "      <td>-0.217128</td>\n",
              "      <td>-0.076865</td>\n",
              "      <td>0.406390</td>\n",
              "      <td>1.228829</td>\n",
              "      <td>-0.259722</td>\n",
              "      <td>-0.210680</td>\n",
              "    </tr>\n",
              "  </tbody>\n",
              "</table>\n",
              "</div>"
            ],
            "text/plain": [
              "   bedrooms  bathrooms  sqft_living  ...      long  sqft_living15  sqft_lot15\n",
              "0 -0.390456  -1.399765    -0.966220  ... -0.300172      -0.943227   -0.278170\n",
              "1 -0.390456   0.247653     0.570691  ... -0.747333      -0.423169   -0.205726\n",
              "2 -1.457513  -1.399765    -1.419554  ... -0.127078       1.107286   -0.190319\n",
              "3  0.676602   1.236104    -0.103781  ... -1.281041      -0.913509   -0.301845\n",
              "4 -0.390456  -0.081830    -0.413375  ...  1.228829      -0.259722   -0.210680\n",
              "\n",
              "[5 rows x 18 columns]"
            ]
          },
          "metadata": {
            "tags": []
          },
          "execution_count": 104
        }
      ]
    },
    {
      "cell_type": "code",
      "metadata": {
        "id": "zR4OO3PHZTun"
      },
      "source": [
        "from sklearn.model_selection import train_test_split\n",
        "X_train, X_test, Y_train, Y_test = train_test_split(scaled_features, Y, test_size = 0.3, random_state = 42)"
      ],
      "execution_count": null,
      "outputs": []
    },
    {
      "cell_type": "code",
      "metadata": {
        "id": "_lS8ekOYZdxd"
      },
      "source": [
        "from sklearn.linear_model import LinearRegression\n",
        "model = LinearRegression()"
      ],
      "execution_count": null,
      "outputs": []
    },
    {
      "cell_type": "code",
      "metadata": {
        "colab": {
          "base_uri": "https://localhost:8080/"
        },
        "id": "GK83T6NGZg5M",
        "outputId": "b404b03b-9d61-47f4-bfa2-461817ed42e9"
      },
      "source": [
        "model.fit(X_train,Y_train)"
      ],
      "execution_count": null,
      "outputs": [
        {
          "output_type": "execute_result",
          "data": {
            "text/plain": [
              "LinearRegression(copy_X=True, fit_intercept=True, n_jobs=None, normalize=False)"
            ]
          },
          "metadata": {
            "tags": []
          },
          "execution_count": 107
        }
      ]
    },
    {
      "cell_type": "code",
      "metadata": {
        "id": "VMtirLqqZjLF"
      },
      "source": [
        "predict = (model.predict(X_test).astype('int'))\n"
      ],
      "execution_count": null,
      "outputs": []
    },
    {
      "cell_type": "code",
      "metadata": {
        "colab": {
          "base_uri": "https://localhost:8080/"
        },
        "id": "XwLCxCTMZnXJ",
        "outputId": "79297e83-a5ba-4319-dcf5-2b65ba3ad895"
      },
      "source": [
        "predict"
      ],
      "execution_count": null,
      "outputs": [
        {
          "output_type": "execute_result",
          "data": {
            "text/plain": [
              "array([586716, 355326, 837965, ..., 789390, 495467, 618916])"
            ]
          },
          "metadata": {
            "tags": []
          },
          "execution_count": 115
        }
      ]
    },
    {
      "cell_type": "code",
      "metadata": {
        "colab": {
          "base_uri": "https://localhost:8080/"
        },
        "id": "WG4fXxGVbm-G",
        "outputId": "e98727f5-0eeb-4e03-8efc-107ffb3cd34a"
      },
      "source": [
        " from sklearn.metrics import mean_squared_error\n",
        " mean_squared_error(predict,Y_test)"
      ],
      "execution_count": null,
      "outputs": [
        {
          "output_type": "execute_result",
          "data": {
            "text/plain": [
              "43010934212.95927"
            ]
          },
          "metadata": {
            "tags": []
          },
          "execution_count": 116
        }
      ]
    },
    {
      "cell_type": "code",
      "metadata": {
        "id": "UJdbhEb1cF2U"
      },
      "source": [
        "eval_data = pd.read_csv('https://raw.githubusercontent.com/dphi-official/Datasets/master/kc_house_data/kc_house_new_test_data.csv')"
      ],
      "execution_count": null,
      "outputs": []
    },
    {
      "cell_type": "code",
      "metadata": {
        "colab": {
          "base_uri": "https://localhost:8080/",
          "height": 215
        },
        "id": "VUkhQ0pZef61",
        "outputId": "80653a5e-9d8b-4def-e9cf-6dd978b84256"
      },
      "source": [
        "from sklearn.preprocessing import StandardScaler\n",
        "scaled_features = StandardScaler().fit_transform(X)\n",
        "scaled_features = pd.DataFrame(data=scaled_features)\n",
        "scaled_features.columns= eval_data.columns\n",
        "\n",
        "# Let's see how the data looks after scaling\n",
        "scaled_features.head()"
      ],
      "execution_count": null,
      "outputs": [
        {
          "output_type": "execute_result",
          "data": {
            "text/html": [
              "<div>\n",
              "<style scoped>\n",
              "    .dataframe tbody tr th:only-of-type {\n",
              "        vertical-align: middle;\n",
              "    }\n",
              "\n",
              "    .dataframe tbody tr th {\n",
              "        vertical-align: top;\n",
              "    }\n",
              "\n",
              "    .dataframe thead th {\n",
              "        text-align: right;\n",
              "    }\n",
              "</style>\n",
              "<table border=\"1\" class=\"dataframe\">\n",
              "  <thead>\n",
              "    <tr style=\"text-align: right;\">\n",
              "      <th></th>\n",
              "      <th>bedrooms</th>\n",
              "      <th>bathrooms</th>\n",
              "      <th>sqft_living</th>\n",
              "      <th>sqft_lot</th>\n",
              "      <th>floors</th>\n",
              "      <th>waterfront</th>\n",
              "      <th>view</th>\n",
              "      <th>condition</th>\n",
              "      <th>grade</th>\n",
              "      <th>sqft_above</th>\n",
              "      <th>sqft_basement</th>\n",
              "      <th>yr_built</th>\n",
              "      <th>yr_renovated</th>\n",
              "      <th>zipcode</th>\n",
              "      <th>lat</th>\n",
              "      <th>long</th>\n",
              "      <th>sqft_living15</th>\n",
              "      <th>sqft_lot15</th>\n",
              "    </tr>\n",
              "  </thead>\n",
              "  <tbody>\n",
              "    <tr>\n",
              "      <th>0</th>\n",
              "      <td>-0.390456</td>\n",
              "      <td>-1.399765</td>\n",
              "      <td>-0.966220</td>\n",
              "      <td>-0.240449</td>\n",
              "      <td>-0.848719</td>\n",
              "      <td>-0.089494</td>\n",
              "      <td>-0.312184</td>\n",
              "      <td>-0.674668</td>\n",
              "      <td>-0.507203</td>\n",
              "      <td>-0.708559</td>\n",
              "      <td>-0.673747</td>\n",
              "      <td>-0.440202</td>\n",
              "      <td>-0.217128</td>\n",
              "      <td>1.843706</td>\n",
              "      <td>-0.349494</td>\n",
              "      <td>-0.300172</td>\n",
              "      <td>-0.943227</td>\n",
              "      <td>-0.278170</td>\n",
              "    </tr>\n",
              "    <tr>\n",
              "      <th>1</th>\n",
              "      <td>-0.390456</td>\n",
              "      <td>0.247653</td>\n",
              "      <td>0.570691</td>\n",
              "      <td>-0.202502</td>\n",
              "      <td>1.113398</td>\n",
              "      <td>-0.089494</td>\n",
              "      <td>-0.312184</td>\n",
              "      <td>-0.674668</td>\n",
              "      <td>-0.507203</td>\n",
              "      <td>0.521641</td>\n",
              "      <td>0.213785</td>\n",
              "      <td>-0.583387</td>\n",
              "      <td>4.593975</td>\n",
              "      <td>0.864954</td>\n",
              "      <td>1.152253</td>\n",
              "      <td>-0.747333</td>\n",
              "      <td>-0.423169</td>\n",
              "      <td>-0.205726</td>\n",
              "    </tr>\n",
              "    <tr>\n",
              "      <th>2</th>\n",
              "      <td>-1.457513</td>\n",
              "      <td>-1.399765</td>\n",
              "      <td>-1.419554</td>\n",
              "      <td>-0.136762</td>\n",
              "      <td>-0.848719</td>\n",
              "      <td>-0.089494</td>\n",
              "      <td>-0.312184</td>\n",
              "      <td>-0.674668</td>\n",
              "      <td>-1.363086</td>\n",
              "      <td>-1.218036</td>\n",
              "      <td>-0.673747</td>\n",
              "      <td>-1.227719</td>\n",
              "      <td>-0.217128</td>\n",
              "      <td>-0.926349</td>\n",
              "      <td>1.273223</td>\n",
              "      <td>-0.127078</td>\n",
              "      <td>1.107286</td>\n",
              "      <td>-0.190319</td>\n",
              "    </tr>\n",
              "    <tr>\n",
              "      <th>3</th>\n",
              "      <td>0.676602</td>\n",
              "      <td>1.236104</td>\n",
              "      <td>-0.103781</td>\n",
              "      <td>-0.255942</td>\n",
              "      <td>-0.848719</td>\n",
              "      <td>-0.089494</td>\n",
              "      <td>-0.312184</td>\n",
              "      <td>2.325804</td>\n",
              "      <td>-0.507203</td>\n",
              "      <td>-0.870101</td>\n",
              "      <td>1.345388</td>\n",
              "      <td>-0.082239</td>\n",
              "      <td>-0.217128</td>\n",
              "      <td>1.068091</td>\n",
              "      <td>-0.280778</td>\n",
              "      <td>-1.281041</td>\n",
              "      <td>-0.913509</td>\n",
              "      <td>-0.301845</td>\n",
              "    </tr>\n",
              "    <tr>\n",
              "      <th>4</th>\n",
              "      <td>-0.390456</td>\n",
              "      <td>-0.081830</td>\n",
              "      <td>-0.413375</td>\n",
              "      <td>-0.182527</td>\n",
              "      <td>-0.848719</td>\n",
              "      <td>-0.089494</td>\n",
              "      <td>-0.312184</td>\n",
              "      <td>-0.674668</td>\n",
              "      <td>0.348680</td>\n",
              "      <td>-0.087246</td>\n",
              "      <td>-0.673747</td>\n",
              "      <td>0.705279</td>\n",
              "      <td>-0.217128</td>\n",
              "      <td>-0.076865</td>\n",
              "      <td>0.406390</td>\n",
              "      <td>1.228829</td>\n",
              "      <td>-0.259722</td>\n",
              "      <td>-0.210680</td>\n",
              "    </tr>\n",
              "  </tbody>\n",
              "</table>\n",
              "</div>"
            ],
            "text/plain": [
              "   bedrooms  bathrooms  sqft_living  ...      long  sqft_living15  sqft_lot15\n",
              "0 -0.390456  -1.399765    -0.966220  ... -0.300172      -0.943227   -0.278170\n",
              "1 -0.390456   0.247653     0.570691  ... -0.747333      -0.423169   -0.205726\n",
              "2 -1.457513  -1.399765    -1.419554  ... -0.127078       1.107286   -0.190319\n",
              "3  0.676602   1.236104    -0.103781  ... -1.281041      -0.913509   -0.301845\n",
              "4 -0.390456  -0.081830    -0.413375  ...  1.228829      -0.259722   -0.210680\n",
              "\n",
              "[5 rows x 18 columns]"
            ]
          },
          "metadata": {
            "tags": []
          },
          "execution_count": 119
        }
      ]
    },
    {
      "cell_type": "code",
      "metadata": {
        "colab": {
          "base_uri": "https://localhost:8080/"
        },
        "id": "63xcweX3cNKa",
        "outputId": "ba0537e5-5956-435d-bc69-b15db29f668f"
      },
      "source": [
        "result = model.predict(scaled_features)\n",
        "result"
      ],
      "execution_count": null,
      "outputs": [
        {
          "output_type": "execute_result",
          "data": {
            "text/plain": [
              "array([212235.68280595, 710784.00187102, 397056.22834213, ...,\n",
              "       330181.9064186 , 550365.34687843, 412128.63091881])"
            ]
          },
          "metadata": {
            "tags": []
          },
          "execution_count": 120
        }
      ]
    },
    {
      "cell_type": "code",
      "metadata": {
        "colab": {
          "base_uri": "https://localhost:8080/",
          "height": 195
        },
        "id": "sNZ_rpTWcWT-",
        "outputId": "cb44f267-2643-433e-bb83-f11430f61411"
      },
      "source": [
        "result = pd.DataFrame(result,columns=['prediction'])\n",
        "result.head()"
      ],
      "execution_count": null,
      "outputs": [
        {
          "output_type": "execute_result",
          "data": {
            "text/html": [
              "<div>\n",
              "<style scoped>\n",
              "    .dataframe tbody tr th:only-of-type {\n",
              "        vertical-align: middle;\n",
              "    }\n",
              "\n",
              "    .dataframe tbody tr th {\n",
              "        vertical-align: top;\n",
              "    }\n",
              "\n",
              "    .dataframe thead th {\n",
              "        text-align: right;\n",
              "    }\n",
              "</style>\n",
              "<table border=\"1\" class=\"dataframe\">\n",
              "  <thead>\n",
              "    <tr style=\"text-align: right;\">\n",
              "      <th></th>\n",
              "      <th>prediction</th>\n",
              "    </tr>\n",
              "  </thead>\n",
              "  <tbody>\n",
              "    <tr>\n",
              "      <th>0</th>\n",
              "      <td>212235.682806</td>\n",
              "    </tr>\n",
              "    <tr>\n",
              "      <th>1</th>\n",
              "      <td>710784.001871</td>\n",
              "    </tr>\n",
              "    <tr>\n",
              "      <th>2</th>\n",
              "      <td>397056.228342</td>\n",
              "    </tr>\n",
              "    <tr>\n",
              "      <th>3</th>\n",
              "      <td>442926.214531</td>\n",
              "    </tr>\n",
              "    <tr>\n",
              "      <th>4</th>\n",
              "      <td>438232.982181</td>\n",
              "    </tr>\n",
              "  </tbody>\n",
              "</table>\n",
              "</div>"
            ],
            "text/plain": [
              "      prediction\n",
              "0  212235.682806\n",
              "1  710784.001871\n",
              "2  397056.228342\n",
              "3  442926.214531\n",
              "4  438232.982181"
            ]
          },
          "metadata": {
            "tags": []
          },
          "execution_count": 121
        }
      ]
    },
    {
      "cell_type": "code",
      "metadata": {
        "id": "jTAUtLnIcbUb"
      },
      "source": [
        "result.to_csv('kingcountry.csv')"
      ],
      "execution_count": null,
      "outputs": []
    },
    {
      "cell_type": "code",
      "metadata": {
        "id": "7txljaGNcr0g"
      },
      "source": [
        ""
      ],
      "execution_count": null,
      "outputs": []
    }
  ]
}